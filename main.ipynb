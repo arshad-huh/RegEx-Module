{
 "cells": [
  {
   "cell_type": "markdown",
   "metadata": {},
   "source": [
    "# Regular Expressions in Python"
   ]
  },
  {
   "cell_type": "markdown",
   "metadata": {},
   "source": [
    "### Q1: How to search for a pattern in a string using Regex?\n",
    "==> The re.search() function is used to search for a pattern in a string. It returns a match object if the pattern is found, otherwise, it returns None. Here's an example:"
   ]
  },
  {
   "cell_type": "code",
   "execution_count": 44,
   "metadata": {},
   "outputs": [
    {
     "name": "stdout",
     "output_type": "stream",
     "text": [
      "<re.Match object; span=(14, 19), match='world'>\n"
     ]
    }
   ],
   "source": [
    "import re \n",
    "\n",
    "pattern = r\"world\"\n",
    "# The r before the pattern denotes a raw string literal in Python. It is used to ensure that backslashes in the string are treated as literal characters and not as escape characters.\n",
    "\n",
    "text = \"Hello, World, world, World, world\"\n",
    "\n",
    "match = re.search(pattern, text)\n",
    "\n",
    "print(match)"
   ]
  },
  {
   "cell_type": "code",
   "execution_count": 3,
   "metadata": {},
   "outputs": [
    {
     "name": "stdout",
     "output_type": "stream",
     "text": [
      "Pattern found: world\n"
     ]
    }
   ],
   "source": [
    "import re\n",
    "\n",
    "pattern = r\"world\"\n",
    "text = \"Hello, World, world, World, world\"\n",
    "\n",
    "match = re.search(pattern, text)\n",
    "\n",
    "if match:\n",
    "    print(\"Pattern found:\", match.group()) \n",
    "else:\n",
    "    print(\"Pattern not found.\")\n",
    "\n",
    "# match.group() is used to extract the actual substring that matches the specified pattern from the input text."
   ]
  },
  {
   "cell_type": "markdown",
   "metadata": {},
   "source": [
    "### Q2: How to find all occurrences of a pattern in a string?\n",
    "==> The re.findall() function can be used to find all occurrences of a pattern in a string. It returns a list of all matches."
   ]
  },
  {
   "cell_type": "code",
   "execution_count": 45,
   "metadata": {},
   "outputs": [
    {
     "name": "stdout",
     "output_type": "stream",
     "text": [
      "All occurrences: ['world', 'world']\n"
     ]
    }
   ],
   "source": [
    "pattern = r\"world\"\n",
    "text = \"Hello, World, world, World, world\"\n",
    "\n",
    "matches = re.findall(pattern, text)\n",
    "print(\"All occurrences:\", matches)"
   ]
  },
  {
   "cell_type": "markdown",
   "metadata": {},
   "source": [
    "### Q3: How to match a pattern at the beginning and end of a string?"
   ]
  },
  {
   "cell_type": "code",
   "execution_count": 29,
   "metadata": {},
   "outputs": [
    {
     "name": "stdout",
     "output_type": "stream",
     "text": [
      "Pattern found at the beginning: Hello\n",
      "Pattern found at the end: place!\n"
     ]
    }
   ],
   "source": [
    "import re\n",
    "\n",
    "paragraph = \"\"\"Hello, world!\n",
    "This is a sample paragraph.\n",
    "It contains multiple lines of text.\n",
    "The world is a vast and interesting place!\"\"\"\n",
    "\n",
    "# Check if the paragraph starts with \"Hello\"\n",
    "pattern_start = r\"^Hello\"\n",
    "match_start = re.search(pattern_start, paragraph)\n",
    "\n",
    "if match_start:\n",
    "    print(\"Pattern found at the beginning:\", match_start.group())\n",
    "else:\n",
    "    print(\"Pattern not found at the beginning.\")\n",
    "\n",
    "# Check if the paragraph ends with \"place.\"\n",
    "pattern_end = r\"place.$\"\n",
    "# pattern_end = r\"place\\.$\"\n",
    "\n",
    "match_end = re.search(pattern_end, paragraph)\n",
    "\n",
    "if match_end:\n",
    "    print(\"Pattern found at the end:\", match_end.group())\n",
    "else:\n",
    "    print(\"Pattern not found at the end.\")\n",
    "\n",
    "# The dot (.) is a special character that matches any character except for a newline.\n",
    "# The \\. ensures that the dot is treated as a literal dot and not as the special regex character that matches any character."
   ]
  },
  {
   "cell_type": "markdown",
   "metadata": {},
   "source": [
    "### Q4: Validate Email Addresses using RegEx"
   ]
  },
  {
   "cell_type": "code",
   "execution_count": 35,
   "metadata": {},
   "outputs": [
    {
     "name": "stdout",
     "output_type": "stream",
     "text": [
      "user@gmail.com is a valid Email Address.\n",
      "a@a.com is a valid Email Address.\n",
      "123@.in is not a valid Email Address.\n"
     ]
    }
   ],
   "source": [
    "import re\n",
    "\n",
    "def is_valid_email(email):\n",
    "    pattern = r'^[\\w\\.-]+@[\\w\\.-]+\\.\\w+$'\n",
    "    match = re.search(pattern, email)\n",
    "    if match:\n",
    "        return f\"{email} is a valid Email Address.\"\n",
    "    else:\n",
    "        return f\"{email} is not a valid Email Address.\"\n",
    "\n",
    "e1 = is_valid_email(\"user@gmail.com\")\n",
    "e2 = is_valid_email(\"a@a.com\")\n",
    "e3 = is_valid_email(\"123@.in\")\n",
    "\n",
    "print(e1)\n",
    "print(e2)\n",
    "print(e3)"
   ]
  },
  {
   "cell_type": "markdown",
   "metadata": {},
   "source": [
    "### Q5: Validate a phone number of 10 digits that starts with \"70\" and ends with \"86\""
   ]
  },
  {
   "cell_type": "code",
   "execution_count": 42,
   "metadata": {},
   "outputs": [
    {
     "name": "stdout",
     "output_type": "stream",
     "text": [
      "7017536786 is a valid phone number.\n",
      "12345678 is not a valid phone number.\n",
      "70203633386 is not a valid phone number.\n"
     ]
    }
   ],
   "source": [
    "import re\n",
    "\n",
    "def is_valid_phno(number):\n",
    "    pattern = r'^70\\d{6}86$'\n",
    "    match = re.search(pattern, number)\n",
    "    if match:\n",
    "        return f\"{number} is a valid phone number.\"\n",
    "    else:\n",
    "        return f\"{number} is not a valid phone number.\"\n",
    "\n",
    "p1 = is_valid_phno(\"7017536786\")\n",
    "p2 = is_valid_phno(\"12345678\")\n",
    "p3 = is_valid_phno(\"70203633386\")\n",
    "\n",
    "print(p1)\n",
    "print(p2)\n",
    "print(p3)"
   ]
  },
  {
   "cell_type": "markdown",
   "metadata": {},
   "source": [
    "### Question 6: Extracting Domain Name\n",
    "\n",
    "Write a Python function extract_domain(email) that extracts and returns the domain name from an email address. For example, given the email \"user@example.com\", the function should return \"example\"."
   ]
  },
  {
   "cell_type": "code",
   "execution_count": 66,
   "metadata": {},
   "outputs": [
    {
     "name": "stdout",
     "output_type": "stream",
     "text": [
      "google\n"
     ]
    }
   ],
   "source": [
    "def extract_domain(email):\n",
    "    pattern = r\"(@{1})(\\w+)(\\.)\"\n",
    "    match = re.search(pattern, email)\n",
    "    if match:\n",
    "        return match.group(2)\n",
    "    else:\n",
    "        print(\"Not valid email\")\n",
    "\n",
    "d1 = extract_domain(\"arshad@google.com\")\n",
    "\n",
    "print(d1)\n",
    "    "
   ]
  },
  {
   "cell_type": "markdown",
   "metadata": {},
   "source": [
    "### Question 7: Finding Duplicate Words\n",
    "\n",
    "Write a Python function find_duplicates(text) that takes a string as input and returns a list of unique duplicate words in the text. For example, given the text \"the the quick brown fox fox\", the function should return [\"the\", \"fox\"]."
   ]
  },
  {
   "cell_type": "code",
   "execution_count": 79,
   "metadata": {},
   "outputs": [
    {
     "name": "stdout",
     "output_type": "stream",
     "text": [
      "{'the', 'fox'}\n"
     ]
    }
   ],
   "source": [
    "def find_duplicate(text):\n",
    "    pattern = r\"\\b\\w+\\b\"\n",
    "    match = re.findall(pattern, text)\n",
    "\n",
    "    duplicates = []\n",
    "    for i in match:\n",
    "        times = match.count(i)\n",
    "        if times > 1:\n",
    "            duplicates.append(i)\n",
    "\n",
    "    return list(set(duplicates))\n",
    "\n",
    "text = \"the the quick brown fox fox\"\n",
    "t1 = find_duplicate(text)\n",
    "\n",
    "print(t1)"
   ]
  },
  {
   "cell_type": "markdown",
   "metadata": {},
   "source": [
    "Instead of using list(set(duplicates)) at the end, you can directly return duplicates.\n",
    "\n",
    "In this version, I added and word not in duplicates to the condition to ensure that each duplicate is added only once to the duplicates list. This avoids duplicate entries in the final result."
   ]
  },
  {
   "cell_type": "code",
   "execution_count": 82,
   "metadata": {},
   "outputs": [
    {
     "name": "stdout",
     "output_type": "stream",
     "text": [
      "['the', 'fox']\n"
     ]
    }
   ],
   "source": [
    "def find_duplicates(text):\n",
    "    pattern = r'\\b\\w+\\b'\n",
    "    matches = re.findall(pattern, text.lower())\n",
    "\n",
    "    duplicates = []\n",
    "    for word in matches:\n",
    "        times = matches.count(word)\n",
    "        if times > 1 and word not in duplicates:\n",
    "            duplicates.append(word)\n",
    "\n",
    "    return duplicates\n",
    "\n",
    "text = \"the the quick brown fox fox\"\n",
    "t1 = find_duplicates(text)\n",
    "\n",
    "print(t1)"
   ]
  },
  {
   "cell_type": "markdown",
   "metadata": {},
   "source": [
    "### Question 8: Password Strength Checker\n",
    "\n",
    "Write a function is_strong_password(password) that uses regex to check if a given password is strong. A strong password should have at least 8 characters, contain both uppercase and lowercase letters, and include at least one digit."
   ]
  },
  {
   "cell_type": "code",
   "execution_count": 87,
   "metadata": {},
   "outputs": [
    {
     "name": "stdout",
     "output_type": "stream",
     "text": [
      "It is a strong Password.\n",
      "Weak Password\n",
      "Weak Password\n"
     ]
    }
   ],
   "source": [
    "def is_strong_password(password):\n",
    "    pattern = r\"^(?=.*[a-z])(?=.*[A-Z])(?=.*\\d).{8,}$\"\n",
    "    match = re.match(pattern, password)\n",
    "    if match:\n",
    "        return \"It is a strong Password.\"\n",
    "    else:\n",
    "        return \"Weak Password\"\n",
    "\n",
    "password1 = \"Abcdef12\"\n",
    "password2 = \"abc123\"\n",
    "password3 = \"ABCDEFGH\"\n",
    "\n",
    "print(is_strong_password(password1))\n",
    "print(is_strong_password(password2))  \n",
    "print(is_strong_password(password3))  "
   ]
  }
 ],
 "metadata": {
  "kernelspec": {
   "display_name": "Python 3",
   "language": "python",
   "name": "python3"
  },
  "language_info": {
   "codemirror_mode": {
    "name": "ipython",
    "version": 3
   },
   "file_extension": ".py",
   "mimetype": "text/x-python",
   "name": "python",
   "nbconvert_exporter": "python",
   "pygments_lexer": "ipython3",
   "version": "3.12.0"
  }
 },
 "nbformat": 4,
 "nbformat_minor": 2
}
